{
 "cells": [
  {
   "cell_type": "code",
   "execution_count": 1,
   "metadata": {},
   "outputs": [],
   "source": [
    "def lodaDataSet():\n",
    "    dataSet = [[\"豆奶\",\"草莓\"],\n",
    "               [\"草莓\",\"尿布\",\"啤酒\",\"辣椒酱\"],\n",
    "               [\"豆奶\",\"尿布\",\"黄瓜\",\"饼干\"],\n",
    "               [\"黄瓜\",\"饼干\",\"尿布\",\"啤酒\"],\n",
    "               [\"黄瓜\",\"啤酒\",\"尿布\",\"黄瓜\"]]\n",
    "    return dataSet"
   ]
  },
  {
   "cell_type": "code",
   "execution_count": 10,
   "metadata": {},
   "outputs": [],
   "source": [
    "def createC1(dataSet):\n",
    "    C1 = []\n",
    "    for transaction in dataSet:\n",
    "        for item in transaction:\n",
    "            if not {item} in C1:\n",
    "                C1.append({item})\n",
    "    C1.sort()\n",
    "    return list(map(frozenset, C1))"
   ]
  },
  {
   "cell_type": "code",
   "execution_count": 50,
   "metadata": {},
   "outputs": [],
   "source": [
    "def scanD(D, Ck, minSupport=0.6):\n",
    "    ssCnt = {}\n",
    "    resList = []\n",
    "    cutList = []\n",
    "    supportData = {}\n",
    "    for tid in D:\n",
    "        for can in Ck:\n",
    "            if can.issubset(tid):\n",
    "                if can not in ssCnt.keys():\n",
    "                    ssCnt[can] = 1\n",
    "                else:\n",
    "                    ssCnt[can] += 1\n",
    "    numItem = float(len(D))\n",
    "    for key in ssCnt:\n",
    "        supportData[key] = ssCnt[key] / numItem\n",
    "        if supportData[key] >= minSupport:\n",
    "            resList.append(key)\n",
    "        else:\n",
    "            cutList.append(key)\n",
    "    return resList, supportData, cutList"
   ]
  },
  {
   "cell_type": "code",
   "execution_count": 88,
   "metadata": {},
   "outputs": [],
   "source": [
    "def creatCk(Lk, k):\n",
    "    Ck = []\n",
    "    lenLk = len(Lk)\n",
    "    for i in range(lenLk):\n",
    "        for j in range(i+1, lenLk):\n",
    "            L1 = list(Lk[i])[:k-2]\n",
    "            L2 = list(Lk[j])[:k-2]\n",
    "            L1.sort()\n",
    "            L2.sort()\n",
    "            if L1 == L2:\n",
    "                Ck.append(Lk[i] | Lk[j])\n",
    "    return Ck"
   ]
  },
  {
   "cell_type": "code",
   "execution_count": 112,
   "metadata": {},
   "outputs": [],
   "source": [
    "def apriori(D, minSupport=0.3):\n",
    "    C1 = createC1(D)\n",
    "    L1, supportData, cutList = scanD(D, C1)\n",
    "    L = [L1]\n",
    "    k = 2\n",
    "    while (len(L[k-2])>0):\n",
    "        Ck = creatCk(L[k-2], k)\n",
    "        Lk, sunk, cutLists = scanD(D, Ck, minSupport)\n",
    "        supportData.update(sunk)\n",
    "        L.append(Lk)\n",
    "        k += 1\n",
    "    return L, supportData"
   ]
  },
  {
   "cell_type": "code",
   "execution_count": 113,
   "metadata": {},
   "outputs": [
    {
     "data": {
      "text/plain": [
       "[['豆奶', '草莓'],\n",
       " ['草莓', '尿布', '啤酒', '辣椒酱'],\n",
       " ['豆奶', '尿布', '黄瓜', '饼干'],\n",
       " ['黄瓜', '饼干', '尿布', '啤酒'],\n",
       " ['黄瓜', '啤酒', '尿布', '黄瓜']]"
      ]
     },
     "execution_count": 113,
     "metadata": {},
     "output_type": "execute_result"
    }
   ],
   "source": [
    "dataSet = lodaDataSet()\n",
    "dataSet"
   ]
  },
  {
   "cell_type": "code",
   "execution_count": 114,
   "metadata": {},
   "outputs": [
    {
     "data": {
      "text/plain": [
       "[frozenset({'豆奶'}),\n",
       " frozenset({'草莓'}),\n",
       " frozenset({'尿布'}),\n",
       " frozenset({'啤酒'}),\n",
       " frozenset({'辣椒酱'}),\n",
       " frozenset({'黄瓜'}),\n",
       " frozenset({'饼干'})]"
      ]
     },
     "execution_count": 114,
     "metadata": {},
     "output_type": "execute_result"
    }
   ],
   "source": [
    "C1 = createC1(dataSet)\n",
    "C1"
   ]
  },
  {
   "cell_type": "code",
   "execution_count": 115,
   "metadata": {},
   "outputs": [
    {
     "data": {
      "text/plain": [
       "[frozenset({'尿布'}), frozenset({'啤酒'}), frozenset({'黄瓜'})]"
      ]
     },
     "execution_count": 115,
     "metadata": {},
     "output_type": "execute_result"
    }
   ],
   "source": [
    "D, R, L= scanD(dataSet, C1)\n",
    "D"
   ]
  },
  {
   "cell_type": "code",
   "execution_count": 116,
   "metadata": {},
   "outputs": [
    {
     "data": {
      "text/plain": [
       "{frozenset({'豆奶'}): 0.4,\n",
       " frozenset({'草莓'}): 0.4,\n",
       " frozenset({'尿布'}): 0.8,\n",
       " frozenset({'啤酒'}): 0.6,\n",
       " frozenset({'辣椒酱'}): 0.2,\n",
       " frozenset({'黄瓜'}): 0.6,\n",
       " frozenset({'饼干'}): 0.4}"
      ]
     },
     "execution_count": 116,
     "metadata": {},
     "output_type": "execute_result"
    }
   ],
   "source": [
    "R"
   ]
  },
  {
   "cell_type": "code",
   "execution_count": 117,
   "metadata": {},
   "outputs": [
    {
     "data": {
      "text/plain": [
       "[frozenset({'豆奶'}), frozenset({'草莓'}), frozenset({'辣椒酱'}), frozenset({'饼干'})]"
      ]
     },
     "execution_count": 117,
     "metadata": {},
     "output_type": "execute_result"
    }
   ],
   "source": [
    "L"
   ]
  },
  {
   "cell_type": "code",
   "execution_count": 118,
   "metadata": {},
   "outputs": [],
   "source": [
    "Lk, k = apriori(dataSet)"
   ]
  },
  {
   "cell_type": "code",
   "execution_count": 119,
   "metadata": {},
   "outputs": [
    {
     "data": {
      "text/plain": [
       "([[frozenset({'尿布'}), frozenset({'啤酒'}), frozenset({'黄瓜'})],\n",
       "  [frozenset({'啤酒', '尿布'}), frozenset({'尿布', '黄瓜'}), frozenset({'啤酒', '黄瓜'})],\n",
       "  [frozenset({'啤酒', '尿布', '黄瓜'})],\n",
       "  []],\n",
       " {frozenset({'豆奶'}): 0.4,\n",
       "  frozenset({'草莓'}): 0.4,\n",
       "  frozenset({'尿布'}): 0.8,\n",
       "  frozenset({'啤酒'}): 0.6,\n",
       "  frozenset({'辣椒酱'}): 0.2,\n",
       "  frozenset({'黄瓜'}): 0.6,\n",
       "  frozenset({'饼干'}): 0.4,\n",
       "  frozenset({'啤酒', '尿布'}): 0.6,\n",
       "  frozenset({'尿布', '黄瓜'}): 0.6,\n",
       "  frozenset({'啤酒', '黄瓜'}): 0.4,\n",
       "  frozenset({'啤酒', '尿布', '黄瓜'}): 0.4})"
      ]
     },
     "execution_count": 119,
     "metadata": {},
     "output_type": "execute_result"
    }
   ],
   "source": [
    "Lk, k"
   ]
  },
  {
   "cell_type": "code",
   "execution_count": null,
   "metadata": {},
   "outputs": [],
   "source": []
  },
  {
   "cell_type": "code",
   "execution_count": null,
   "metadata": {},
   "outputs": [],
   "source": []
  }
 ],
 "metadata": {
  "kernelspec": {
   "display_name": "Python 3",
   "language": "python",
   "name": "python3"
  },
  "language_info": {
   "codemirror_mode": {
    "name": "ipython",
    "version": 3
   },
   "file_extension": ".py",
   "mimetype": "text/x-python",
   "name": "python",
   "nbconvert_exporter": "python",
   "pygments_lexer": "ipython3",
   "version": "3.7.1"
  }
 },
 "nbformat": 4,
 "nbformat_minor": 2
}

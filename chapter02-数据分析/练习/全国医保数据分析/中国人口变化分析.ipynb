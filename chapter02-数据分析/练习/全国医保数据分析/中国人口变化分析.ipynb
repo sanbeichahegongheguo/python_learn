{
 "cells": [
  {
   "cell_type": "code",
   "execution_count": 3,
   "metadata": {},
   "outputs": [],
   "source": [
    "import xlrd\n",
    "import pprint\n",
    "from matplotlib import pyplot as plt\n",
    "import numpy as np\n",
    "import pandas as pd\n",
    "plt.rcParams['font.sans-serif']=['SimHei'] #用来正常显示中文标签\n",
    "plt.rcParams['axes.unicode_minus']=False #用来正常显示负号"
   ]
  },
  {
   "cell_type": "code",
   "execution_count": 68,
   "metadata": {},
   "outputs": [],
   "source": [
    "path = \"./datas/国家统计局/Z0201C.xls\"\n",
    "data_people = xlrd.open_workbook(path)\n",
    "table = data_people.sheets()[0]"
   ]
  },
  {
   "cell_type": "code",
   "execution_count": 88,
   "metadata": {},
   "outputs": [],
   "source": [
    "years = table.col_values(0, start_rowx=8, end_rowx=58)\n",
    "years = [int(i) for i in years]\n",
    "total = table.col_values(1, start_rowx=8, end_rowx=58)\n",
    "male = table.col_values(2, 8, 58)\n",
    "female = table.col_values(5, 8, 58)\n",
    "urban = table.col_values(7, 8, 58)\n",
    "farm = table.col_values(9, 8, 58)"
   ]
  },
  {
   "cell_type": "code",
   "execution_count": null,
   "metadata": {},
   "outputs": [],
   "source": []
  },
  {
   "cell_type": "code",
   "execution_count": null,
   "metadata": {},
   "outputs": [],
   "source": []
  },
  {
   "cell_type": "code",
   "execution_count": 66,
   "metadata": {},
   "outputs": [
    {
     "data": {
      "text/plain": [
       "<matplotlib.legend.Legend at 0xc612438>"
      ]
     },
     "execution_count": 66,
     "metadata": {},
     "output_type": "execute_result"
    },
    {
     "data": {
      "image/png": "[encoded data removed]",
      "text/plain": [
       "<Figure size 432x288 with 1 Axes>"
      ]
     },
     "metadata": {
      "needs_background": "light"
     },
     "output_type": "display_data"
    }
   ],
   "source": [
    "# 生成数据\n",
    "\n",
    "x = np.linspace(0, 20, 20)\n",
    "y1 = np.random.randint(50, 100, 20)\n",
    "y2 = np.random.randint(-100, -50, 20)\n",
    "\n",
    "plt.barh(x, y1, color='b', label='男性')\n",
    "plt.barh(x, y2, color='r', label='女性')\n",
    "\n",
    "# 显示范围\n",
    "plt.ylim(-2, 22)\n",
    "plt.xlim(-150, 150)\n",
    "\n",
    "# 添加图例\n",
    "plt.legend(loc='lower right')"
   ]
  },
  {
   "cell_type": "code",
   "execution_count": 65,
   "metadata": {},
   "outputs": [
    {
     "data": {
      "text/plain": [
       "array([-74, -87, -53, -98, -61, -58, -51, -98, -72, -99, -66, -57, -83,\n",
       "       -79, -96, -84, -90, -79, -69, -93])"
      ]
     },
     "execution_count": 65,
     "metadata": {},
     "output_type": "execute_result"
    }
   ],
   "source": [
    "y2"
   ]
  },
  {
   "cell_type": "code",
   "execution_count": 20,
   "metadata": {},
   "outputs": [
    {
     "data": {
      "text/plain": [
       "array([  0.        ,  -0.40816327,  -0.81632653,  -1.2244898 ,\n",
       "        -1.63265306,  -2.04081633,  -2.44897959,  -2.85714286,\n",
       "        -3.26530612,  -3.67346939,  -4.08163265,  -4.48979592,\n",
       "        -4.89795918,  -5.30612245,  -5.71428571,  -6.12244898,\n",
       "        -6.53061224,  -6.93877551,  -7.34693878,  -7.75510204,\n",
       "        -8.16326531,  -8.57142857,  -8.97959184,  -9.3877551 ,\n",
       "        -9.79591837, -10.20408163, -10.6122449 , -11.02040816,\n",
       "       -11.42857143, -11.83673469, -12.24489796, -12.65306122,\n",
       "       -13.06122449, -13.46938776, -13.87755102, -14.28571429,\n",
       "       -14.69387755, -15.10204082, -15.51020408, -15.91836735,\n",
       "       -16.32653061, -16.73469388, -17.14285714, -17.55102041,\n",
       "       -17.95918367, -18.36734694, -18.7755102 , -19.18367347,\n",
       "       -19.59183673, -20.        ])"
      ]
     },
     "execution_count": 20,
     "metadata": {},
     "output_type": "execute_result"
    }
   ],
   "source": [
    "x1"
   ]
  },
  {
   "cell_type": "code",
   "execution_count": 38,
   "metadata": {},
   "outputs": [
    {
     "data": {
      "image/png": "[encoded data removed]",
      "text/plain": [
       "<Figure size 576x576 with 1 Axes>"
      ]
     },
     "metadata": {
      "needs_background": "light"
     },
     "output_type": "display_data"
    }
   ],
   "source": [
    "import mpl_toolkits.axisartist as axisartist\n",
    "#创建画布\n",
    "fig = plt.figure(figsize=(8, 8))\n",
    "#使用axisartist.Subplot方法创建一个绘图区对象ax\n",
    "ax = axisartist.Subplot(fig, 111)  \n",
    "#将绘图区对象添加到画布中\n",
    "fig.add_axes(ax)\n",
    "ax.axis[:].set_visible(False)\n",
    "ax.axis[\"x\"] = ax.new_floating_axis(0,0)\n",
    "ax.axis[\"x\"].set_axisline_style(\"->\", size = 1.0)\n",
    "\n",
    "ax.axis[\"y\"] = ax.new_floating_axis(1,0)\n",
    "ax.axis[\"y\"].set_axisline_style(\"-|>\", size = 1.0)\n",
    "\n",
    "ax.axis[\"x\"].set_axis_direction(\"top\")\n",
    "ax.axis[\"y\"].set_axis_direction(\"right\")"
   ]
  },
  {
   "cell_type": "code",
   "execution_count": null,
   "metadata": {},
   "outputs": [],
   "source": []
  },
  {
   "cell_type": "code",
   "execution_count": 41,
   "metadata": {},
   "outputs": [],
   "source": []
  },
  {
   "cell_type": "code",
   "execution_count": 61,
   "metadata": {},
   "outputs": [
    {
     "data": {
      "text/plain": [
       "<matplotlib.legend.Legend at 0xc3b5ef0>"
      ]
     },
     "execution_count": 61,
     "metadata": {},
     "output_type": "execute_result"
    },
    {
     "data": {
      "image/png": "[encoded data removed]",
      "text/plain": [
       "<Figure size 432x288 with 1 Axes>"
      ]
     },
     "metadata": {
      "needs_background": "light"
     },
     "output_type": "display_data"
    }
   ],
   "source": [
    "a = 10\n",
    "\n",
    "f = 40\n",
    "\n",
    "m = 40\n",
    "\n",
    "plt.barh(a, m, color='b', label='男性')\n",
    "plt.barh(a, -f, color='r', label='女性')\n",
    "\n",
    "# 显示范围\n",
    "plt.ylim(-2, 22)\n",
    "plt.xlim(-150, 150)\n",
    "\n",
    "# 添加图例\n",
    "plt.legend(loc='lower right')"
   ]
  },
  {
   "cell_type": "code",
   "execution_count": null,
   "metadata": {},
   "outputs": [],
   "source": []
  }
 ],
 "metadata": {
  "kernelspec": {
   "display_name": "Python 3",
   "language": "python",
   "name": "python3"
  },
  "language_info": {
   "codemirror_mode": {
    "name": "ipython",
    "version": 3
   },
   "file_extension": ".py",
   "mimetype": "text/x-python",
   "name": "python",
   "nbconvert_exporter": "python",
   "pygments_lexer": "ipython3",
   "version": "3.7.1"
  }
 },
 "nbformat": 4,
 "nbformat_minor": 2
}

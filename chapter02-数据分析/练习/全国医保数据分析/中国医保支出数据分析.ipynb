{
 "cells": [
  {
   "cell_type": "markdown",
   "metadata": {},
   "source": [
    "接着分析中国1989年至2016年社会保障金支出情况："
   ]
  },
  {
   "cell_type": "code",
   "execution_count": 2,
   "metadata": {},
   "outputs": [],
   "source": [
    "import xlrd\n",
    "import pprint\n",
    "from matplotlib import pyplot as plt\n",
    "import pandas as pd\n",
    "plt.rcParams['font.sans-serif']=['SimHei'] #用来正常显示中文标签\n",
    "plt.rcParams['axes.unicode_minus']=False #用来正常显示负号"
   ]
  },
  {
   "cell_type": "code",
   "execution_count": 13,
   "metadata": {},
   "outputs": [],
   "source": [
    "path = \"./datas/人社部/09-02.xls\"\n",
    "data_outcome = xlrd.open_workbook(path)\n",
    "table = data_outcome.sheets()[0]\n",
    "# table = pd.DataFrame(table)"
   ]
  },
  {
   "cell_type": "code",
   "execution_count": 14,
   "metadata": {},
   "outputs": [],
   "source": [
    "years = table.col_values(0, start_rowx=11, end_rowx=39)\n",
    "total = table.col_values(1, start_rowx=11, end_rowx=39)\n",
    "total = list(map(lambda x:int(x), total))\n",
    "basic_pension_insurance = table.col_values(2, 11, 39)\n",
    "unemployment_insurance = table.col_values(3, 11, 39)\n",
    "urban_basic_medical_insurance = table.col_values(4, 11, 39)\n",
    "work_injury_insurance = table.col_values(5, 11, 39)\n",
    "maternity_insurance = table.col_values(6, 11, 39)"
   ]
  },
  {
   "cell_type": "code",
   "execution_count": 15,
   "metadata": {},
   "outputs": [],
   "source": [
    "new = pd.DataFrame([years,total,basic_pension_insurance,unemployment_insurance,\n",
    "                    urban_basic_medical_insurance,work_injury_insurance,maternity_insurance],\n",
    "                   index=['years','total','basic_pension_insurance','unemployment_insurance',\n",
    "                         'urban_basic_medical_insurance','work_injury_insurance','maternity_insurance'])\n",
    "new= new.T"
   ]
  },
  {
   "cell_type": "code",
   "execution_count": 16,
   "metadata": {},
   "outputs": [
    {
     "data": {
      "text/html": [
       "<div>\n",
       "<style scoped>\n",
       "    .dataframe tbody tr th:only-of-type {\n",
       "        vertical-align: middle;\n",
       "    }\n",
       "\n",
       "    .dataframe tbody tr th {\n",
       "        vertical-align: top;\n",
       "    }\n",
       "\n",
       "    .dataframe thead th {\n",
       "        text-align: right;\n",
       "    }\n",
       "</style>\n",
       "<table border=\"1\" class=\"dataframe\">\n",
       "  <thead>\n",
       "    <tr style=\"text-align: right;\">\n",
       "      <th></th>\n",
       "      <th>years</th>\n",
       "      <th>total</th>\n",
       "      <th>basic_pension_insurance</th>\n",
       "      <th>unemployment_insurance</th>\n",
       "      <th>urban_basic_medical_insurance</th>\n",
       "      <th>work_injury_insurance</th>\n",
       "      <th>maternity_insurance</th>\n",
       "    </tr>\n",
       "  </thead>\n",
       "  <tbody>\n",
       "    <tr>\n",
       "      <th>0</th>\n",
       "      <td>1989</td>\n",
       "      <td>120</td>\n",
       "      <td>118.829</td>\n",
       "      <td>2</td>\n",
       "      <td>0</td>\n",
       "      <td>0</td>\n",
       "      <td>0</td>\n",
       "    </tr>\n",
       "    <tr>\n",
       "      <th>1</th>\n",
       "      <td>1990</td>\n",
       "      <td>151</td>\n",
       "      <td>149.336</td>\n",
       "      <td>2.5402</td>\n",
       "      <td>0</td>\n",
       "      <td>0</td>\n",
       "      <td>0</td>\n",
       "    </tr>\n",
       "    <tr>\n",
       "      <th>2</th>\n",
       "      <td>1991</td>\n",
       "      <td>176</td>\n",
       "      <td>173.071</td>\n",
       "      <td>3</td>\n",
       "      <td>0</td>\n",
       "      <td>0</td>\n",
       "      <td>0</td>\n",
       "    </tr>\n",
       "    <tr>\n",
       "      <th>3</th>\n",
       "      <td>1992</td>\n",
       "      <td>327</td>\n",
       "      <td>321.914</td>\n",
       "      <td>5.1</td>\n",
       "      <td>0</td>\n",
       "      <td>0</td>\n",
       "      <td>0</td>\n",
       "    </tr>\n",
       "    <tr>\n",
       "      <th>4</th>\n",
       "      <td>1993</td>\n",
       "      <td>482</td>\n",
       "      <td>470.63</td>\n",
       "      <td>9.3</td>\n",
       "      <td>1.3335</td>\n",
       "      <td>0.4144</td>\n",
       "      <td>0.5036</td>\n",
       "    </tr>\n",
       "  </tbody>\n",
       "</table>\n",
       "</div>"
      ],
      "text/plain": [
       "  years total basic_pension_insurance unemployment_insurance  \\\n",
       "0  1989   120                 118.829                      2   \n",
       "1  1990   151                 149.336                 2.5402   \n",
       "2  1991   176                 173.071                      3   \n",
       "3  1992   327                 321.914                    5.1   \n",
       "4  1993   482                  470.63                    9.3   \n",
       "\n",
       "  urban_basic_medical_insurance work_injury_insurance maternity_insurance  \n",
       "0                             0                     0                   0  \n",
       "1                             0                     0                   0  \n",
       "2                             0                     0                   0  \n",
       "3                             0                     0                   0  \n",
       "4                        1.3335                0.4144              0.5036  "
      ]
     },
     "execution_count": 16,
     "metadata": {},
     "output_type": "execute_result"
    }
   ],
   "source": [
    "new.head()"
   ]
  },
  {
   "cell_type": "code",
   "execution_count": 17,
   "metadata": {},
   "outputs": [
    {
     "data": {
      "text/plain": [
       "Text(0.5, 1.0, '历年社保支出组成变化')"
      ]
     },
     "execution_count": 17,
     "metadata": {},
     "output_type": "execute_result"
    },
    {
     "data": {
      "image/png": "[encoded data removed]",
      "text/plain": [
       "<Figure size 1440x720 with 1 Axes>"
      ]
     },
     "metadata": {
      "needs_background": "light"
     },
     "output_type": "display_data"
    }
   ],
   "source": [
    "# 绘制点状效果图。此图的绘制不需要堆积，只需要展示在图片上。\n",
    "# 没有图例版\n",
    "plt.figure(figsize=(20,10))\n",
    "plt.plot(years, total,'x', \n",
    "         years, basic_pension_insurance,'.',\n",
    "         years, unemployment_insurance, '.',\n",
    "         years, urban_basic_medical_insurance, '.',\n",
    "         years, work_injury_insurance,'.',\n",
    "         years, maternity_insurance,'.',)\n",
    "\n",
    "# 添加网格线\n",
    "plt.grid(axis='y', color='gray', linestyle=':', linewidth=2)\n",
    "\n",
    "plt.xlabel(\"年份\", fontsize=20)\n",
    "plt.ylabel(\"支出组成(亿元)\", fontsize=20)\n",
    "plt.title(\"历年社保支出组成变化\", fontsize=25)"
   ]
  },
  {
   "cell_type": "code",
   "execution_count": null,
   "metadata": {},
   "outputs": [],
   "source": []
  }
 ],
 "metadata": {
  "kernelspec": {
   "display_name": "Python 3",
   "language": "python",
   "name": "python3"
  },
  "language_info": {
   "codemirror_mode": {
    "name": "ipython",
    "version": 3
   },
   "file_extension": ".py",
   "mimetype": "text/x-python",
   "name": "python",
   "nbconvert_exporter": "python",
   "pygments_lexer": "ipython3",
   "version": "3.7.1"
  }
 },
 "nbformat": 4,
 "nbformat_minor": 2
}

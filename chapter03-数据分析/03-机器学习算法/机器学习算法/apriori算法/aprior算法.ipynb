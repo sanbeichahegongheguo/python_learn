{
 "cells": [
  {
   "cell_type": "code",
   "execution_count": 7,
   "metadata": {},
   "outputs": [],
   "source": [
    "lists = [(\"豆奶\", \"草莓\"),(\"草莓\",\"尿布\",\"啤酒\",\"辣椒酱\"),(\"豆奶\",\"尿布\",\"黄瓜\",\"饼干\"),\n",
    "         (\"黄瓜\",\"饼干\",\"尿布\",\"啤酒\"),(\"黄瓜\",\"啤酒\",\"尿布\",\"黄瓜\")]"
   ]
  },
  {
   "cell_type": "code",
   "execution_count": 8,
   "metadata": {},
   "outputs": [
    {
     "data": {
      "text/plain": [
       "('豆奶', '草莓')"
      ]
     },
     "execution_count": 8,
     "metadata": {},
     "output_type": "execute_result"
    }
   ],
   "source": [
    "lists[0]"
   ]
  },
  {
   "cell_type": "code",
   "execution_count": 9,
   "metadata": {},
   "outputs": [],
   "source": [
    "# 获取所有单项\n",
    "items = []\n",
    "for i in lists:\n",
    "    for j in i:\n",
    "        if j not in items:\n",
    "            items.append(j)\n",
    "        else:\n",
    "            continue"
   ]
  },
  {
   "cell_type": "code",
   "execution_count": 5,
   "metadata": {},
   "outputs": [
    {
     "data": {
      "text/plain": [
       "5"
      ]
     },
     "execution_count": 5,
     "metadata": {},
     "output_type": "execute_result"
    }
   ],
   "source": [
    "items_n = len(lists)\n",
    "items_n"
   ]
  },
  {
   "cell_type": "code",
   "execution_count": 10,
   "metadata": {},
   "outputs": [
    {
     "data": {
      "text/plain": [
       "['豆奶', '草莓', '尿布', '啤酒', '辣椒酱', '黄瓜', '饼干']"
      ]
     },
     "execution_count": 10,
     "metadata": {},
     "output_type": "execute_result"
    }
   ],
   "source": [
    "items"
   ]
  },
  {
   "cell_type": "code",
   "execution_count": 11,
   "metadata": {},
   "outputs": [
    {
     "data": {
      "text/plain": [
       "{'豆奶': 2, '草莓': 2, '尿布': 4, '啤酒': 3, '辣椒酱': 1, '黄瓜': 4, '饼干': 2}"
      ]
     },
     "execution_count": 11,
     "metadata": {},
     "output_type": "execute_result"
    }
   ],
   "source": [
    "# 获取所有单项\n",
    "items_map = {}\n",
    "n = 0\n",
    "for i in lists:\n",
    "    for j in i:\n",
    "        if j not in items_map:\n",
    "            items_map[j] = 1\n",
    "        else:\n",
    "            items_map[j] += 1\n",
    "items_map"
   ]
  },
  {
   "cell_type": "code",
   "execution_count": 15,
   "metadata": {},
   "outputs": [
    {
     "data": {
      "text/plain": [
       "[['豆奶', '草莓'],\n",
       " ['豆奶', '尿布'],\n",
       " ['豆奶', '啤酒'],\n",
       " ['豆奶', '辣椒酱'],\n",
       " ['豆奶', '黄瓜'],\n",
       " ['豆奶', '饼干'],\n",
       " ['草莓', '尿布'],\n",
       " ['草莓', '啤酒'],\n",
       " ['草莓', '辣椒酱'],\n",
       " ['草莓', '黄瓜'],\n",
       " ['草莓', '饼干'],\n",
       " ['尿布', '啤酒'],\n",
       " ['尿布', '辣椒酱'],\n",
       " ['尿布', '黄瓜'],\n",
       " ['尿布', '饼干'],\n",
       " ['啤酒', '辣椒酱'],\n",
       " ['啤酒', '黄瓜'],\n",
       " ['啤酒', '饼干'],\n",
       " ['辣椒酱', '黄瓜'],\n",
       " ['辣椒酱', '饼干'],\n",
       " ['黄瓜', '饼干']]"
      ]
     },
     "execution_count": 15,
     "metadata": {},
     "output_type": "execute_result"
    }
   ],
   "source": [
    "# 两两组合\n",
    "\n",
    "items_two = []\n",
    "n = 0\n",
    "m = len(items)\n",
    "for i in range(m):\n",
    "    A1 = items[i]\n",
    "    for j in range(i+1, m):\n",
    "        A2 = items[j]\n",
    "        items_two.append([])\n",
    "        items_two[n].append(A1)\n",
    "        items_two[n].append(A2)\n",
    "        n += 1\n",
    "        continue\n",
    "\n",
    "\n",
    "items_two"
   ]
  },
  {
   "cell_type": "code",
   "execution_count": 17,
   "metadata": {},
   "outputs": [
    {
     "data": {
      "text/plain": [
       "21"
      ]
     },
     "execution_count": 17,
     "metadata": {},
     "output_type": "execute_result"
    }
   ],
   "source": [
    "len(items_two)"
   ]
  },
  {
   "cell_type": "code",
   "execution_count": null,
   "metadata": {},
   "outputs": [],
   "source": [
    "\n",
    "\n"
   ]
  }
 ],
 "metadata": {
  "kernelspec": {
   "display_name": "Python 3",
   "language": "python",
   "name": "python3"
  },
  "language_info": {
   "codemirror_mode": {
    "name": "ipython",
    "version": 3
   },
   "file_extension": ".py",
   "mimetype": "text/x-python",
   "name": "python",
   "nbconvert_exporter": "python",
   "pygments_lexer": "ipython3",
   "version": "3.7.1"
  }
 },
 "nbformat": 4,
 "nbformat_minor": 2
}

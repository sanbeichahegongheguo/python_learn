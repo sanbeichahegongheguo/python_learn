{
 "cells": [
  {
   "cell_type": "code",
   "execution_count": 1,
   "metadata": {},
   "outputs": [],
   "source": [
    "# 显示当前工作目录\n",
    "def pwd():\n",
    "    import os\n",
    "    return os.getcwd()"
   ]
  },
  {
   "cell_type": "code",
   "execution_count": 4,
   "metadata": {},
   "outputs": [],
   "source": [
    "def cd(path):\n",
    "    import os\n",
    "    os.chdir(path)"
   ]
  },
  {
   "cell_type": "code",
   "execution_count": 8,
   "metadata": {},
   "outputs": [],
   "source": [
    "def ls(path='*'):\n",
    "\timport glob\n",
    "\treturn glob.glob(path)"
   ]
  },
  {
   "cell_type": "code",
   "execution_count": 19,
   "metadata": {},
   "outputs": [],
   "source": [
    "cd('chapter01-基础知识/12.实现Linux下命令/')"
   ]
  },
  {
   "cell_type": "code",
   "execution_count": 20,
   "metadata": {},
   "outputs": [
    {
     "data": {
      "text/plain": [
       "['实现Linux常见命令.ipynb']"
      ]
     },
     "execution_count": 20,
     "metadata": {},
     "output_type": "execute_result"
    }
   ],
   "source": [
    "ls()"
   ]
  },
  {
   "cell_type": "code",
   "execution_count": 23,
   "metadata": {},
   "outputs": [],
   "source": [
    "def mkdir(path):\n",
    "    import os\n",
    "    path=path.strip()\n",
    "    path=path.rstrip(\"\\\\\")\n",
    "    isExists=os.path.exists(path)\n",
    "    if not isExists:\n",
    "        os.makedirs(path)\n",
    "        return True\n",
    "    else:\n",
    "        return False"
   ]
  },
  {
   "cell_type": "code",
   "execution_count": 35,
   "metadata": {},
   "outputs": [],
   "source": [
    "def mkcd(path):\n",
    "    mkdir(path)\n",
    "    cd(path)"
   ]
  },
  {
   "cell_type": "code",
   "execution_count": null,
   "metadata": {},
   "outputs": [],
   "source": [
    "def exists(path):\n",
    "    import os\n",
    "    return os.path.exists(path) "
   ]
  },
  {
   "cell_type": "code",
   "execution_count": 36,
   "metadata": {},
   "outputs": [],
   "source": [
    "# 获取路径最后的文件夹名字\n",
    "def dirname(path):\n",
    "    import os\n",
    "    return os.path.dirname(path).strip()"
   ]
  },
  {
   "cell_type": "code",
   "execution_count": 38,
   "metadata": {},
   "outputs": [
    {
     "data": {
      "text/plain": [
       "'c:'"
      ]
     },
     "execution_count": 38,
     "metadata": {},
     "output_type": "execute_result"
    }
   ],
   "source": [
    "def exit(info='Exited by user!'):\n",
    "\tprint info\n",
    "\tsys.stdout.flush()\n",
    "\tsys.exit();"
   ]
  },
  {
   "cell_type": "code",
   "execution_count": 56,
   "metadata": {},
   "outputs": [],
   "source": [
    "def read(fileName):\n",
    "    with open(fileName) as file:\n",
    "        s = file.read()\n",
    "    return s\n",
    "\n",
    "def write(cmd,fileName,mode=\"w\",sep=\"\"):\n",
    "    file = open(fileName,mode);\n",
    "    file.write(str(cmd)+sep);\n",
    "    file.close();\n",
    "    \n",
    "def loadjson(file):\n",
    "    return json.loads(read(file))\n",
    "\n",
    "def parseyaml(filename):\n",
    "    try:\n",
    "        import yaml\n",
    "    except ImportError:\n",
    "        print(\"You need to install python-yaml.\")\n",
    "        exit(1)\n",
    "    try:\n",
    "        from yaml import CLoader as Loader\n",
    "        from yaml import CDumper as Dumper\n",
    "    except ImportError:\n",
    "        from yaml import Loader, Dumper\n",
    "    string = open(filename).read()\n",
    "    data = yaml.load(string, Loader=Loader)\n",
    "    return data"
   ]
  },
  {
   "cell_type": "code",
   "execution_count": 57,
   "metadata": {},
   "outputs": [],
   "source": [
    "def read(fileName):\n",
    "    with open(fileName) as file:\n",
    "        s = file.read();\n",
    "    return s;"
   ]
  },
  {
   "cell_type": "code",
   "execution_count": null,
   "metadata": {},
   "outputs": [],
   "source": []
  }
 ],
 "metadata": {
  "kernelspec": {
   "display_name": "Python 3",
   "language": "python",
   "name": "python3"
  },
  "language_info": {
   "codemirror_mode": {
    "name": "ipython",
    "version": 3
   },
   "file_extension": ".py",
   "mimetype": "text/x-python",
   "name": "python",
   "nbconvert_exporter": "python",
   "pygments_lexer": "ipython3",
   "version": "3.7.1"
  }
 },
 "nbformat": 4,
 "nbformat_minor": 2
}
